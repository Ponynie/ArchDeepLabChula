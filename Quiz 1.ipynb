{
  "cells": [
    {
      "cell_type": "markdown",
      "metadata": {
        "id": "Arki_zhPoiwb"
      },
      "source": [
        "**Quiz 1.**\n",
        "\n",
        "Type in your Student ID and full name in the box below."
      ]
    },
    {
      "cell_type": "markdown",
      "metadata": {
        "id": "SuXL3olrpZlc"
      },
      "source": [
        "### Type in your student ID and Name here\n",
        "ID 6434461423\n",
        "Name Phichaphop Raqsaboon"
      ]
    },
    {
      "cell_type": "code",
      "execution_count": null,
      "metadata": {
        "colab": {
          "base_uri": "https://localhost:8080/"
        },
        "id": "YVCeuOb0oby9",
        "outputId": "aa7b5d80-dc6f-4b5e-c364-5c80677557b0"
      },
      "outputs": [],
      "source": [
        "# Must run this statement first\n",
        "#!pip install --quiet mxnet"
      ]
    },
    {
      "cell_type": "code",
      "execution_count": null,
      "metadata": {
        "id": "lHOzyR9jEt2Z"
      },
      "outputs": [],
      "source": [
        "from mxnet import nd\n",
        "import mxnet as mx"
      ]
    },
    {
      "cell_type": "markdown",
      "metadata": {
        "id": "OXK3F0B4ptYL"
      },
      "source": [
        "###1. Create tensors: $x_1$, $x_2$, $x_3$, $x_4$, $x_5$, $x_6$ and three constants $m$, $n$, and $k$ from following instructions."
      ]
    },
    {
      "cell_type": "markdown",
      "metadata": {
        "id": "X2628eugqnas"
      },
      "source": [
        "1.1. $m = 3$, $n = 5$, $k = 4$\n",
        "\n",
        "$x_1=\\left[7\\right]$, $x_2 = \\left[1 \\dots m\\right]$, $x_3=\\left[ \\begin{array}{ccc} 3 & -2 & 0\\\\ 2 & 1 &1\\end{array}\\right]$,\n",
        "\n",
        " $x_4 = $ matrix of 1's which dimension $(n-m) \\times n $, $x_5= \\left[ \\begin{array}{ccccc} 3 & -1 & 1 & -2 & 0\\end{array}\\right]$,\n",
        "\n",
        " $x_6= $ matrix of 1's which dimension equal to  $x_3 $."
      ]
    },
    {
      "cell_type": "code",
      "execution_count": null,
      "metadata": {
        "id": "IinNIzWspkTb"
      },
      "outputs": [],
      "source": [
        "m = 3\n",
        "n = 5\n",
        "k = 4\n",
        "\n",
        "x1 = nd.array([7])\n",
        "x2 = nd.arange(1, m+1, 1)\n",
        "x3 = nd.array([[3, -2, 0],\n",
        "               [2, 1, 1]])\n",
        "x4 = nd.ones((n-m, n))\n",
        "x5 = nd.array([3, -1, 1, -2, 0])\n",
        "x6 = nd.ones(x3.shape)\n"
      ]
    },
    {
      "cell_type": "markdown",
      "metadata": {
        "id": "w27XtTuKvCwd"
      },
      "source": [
        "1.2. From 1.1, find the expression that would generate the following results. You are not allowed to type any constant in your expression. You do not need to use the index for any expression."
      ]
    },
    {
      "cell_type": "code",
      "execution_count": null,
      "metadata": {
        "colab": {
          "base_uri": "https://localhost:8080/"
        },
        "id": "wDlbc2EFuYqc",
        "outputId": "9349c693-0fe7-47b0-b1e5-4053f7457b27"
      },
      "outputs": [],
      "source": [
        "# 1.2.1. The expression to generate\n",
        "#>> [[ 6. -4.  0.]\n",
        "#    [ 4.  2.  2.]]\n",
        "# is\n",
        "x3+x3\n"
      ]
    },
    {
      "cell_type": "code",
      "execution_count": null,
      "metadata": {
        "colab": {
          "base_uri": "https://localhost:8080/"
        },
        "id": "M_skBKGuv6Iu",
        "outputId": "6518ea86-e242-4c89-931f-bcf1b658c8cd"
      },
      "outputs": [],
      "source": [
        "# 1.2.2. The expression to generate\n",
        "#>> [[10.  5.  7.]\n",
        "#    [ 9.  8.  8.]]\n",
        "# is\n",
        "x3+x1\n"
      ]
    },
    {
      "cell_type": "code",
      "execution_count": null,
      "metadata": {
        "colab": {
          "base_uri": "https://localhost:8080/"
        },
        "id": "Y-Qcnmo6v-q0",
        "outputId": "3e4f322c-5d6e-449c-f0fb-79cff54b02b0"
      },
      "outputs": [],
      "source": [
        "# 1.2.3. The expression to generate (Using .as_np_ndarray() to transform it to use with mx.np.matmul)\n",
        "#>> array([[ 5.,  5.,  5.,  5.,  5.],\n",
        "#          [-1., -1., -1., -1., -1.],\n",
        "#          [ 1.,  1.,  1.,  1.,  1.]])\n",
        "# is\n",
        "mx.np.matmul(x3.T.as_np_ndarray(), x4.as_np_ndarray())"
      ]
    },
    {
      "cell_type": "code",
      "execution_count": null,
      "metadata": {
        "colab": {
          "base_uri": "https://localhost:8080/"
        },
        "id": "cT9k7z9VwEHt",
        "outputId": "7060a9c7-466e-4491-fc2e-495647127d66"
      },
      "outputs": [],
      "source": [
        "# 1.2.4. The expression to generate\n",
        "#>> array([[[[ 0.],\n",
        "#            [ 0.],\n",
        "#            [ 0.],\n",
        "#            [ 0.],\n",
        "#            [ 0.]]],\n",
        "#         [[[ 3.],\n",
        "#           [-1.],\n",
        "#           [ 1.],\n",
        "#           [-2.],\n",
        "#           [ 0.]]],\n",
        "#         [[[ 6.],\n",
        "#           [-2.],\n",
        "#           [ 2.],\n",
        "#           [-4.],\n",
        "#           [ 0.]]]])\n",
        "# is\n",
        "nd.stack(nd.zeros_like(x5), x5, x5+x5).reshape(m, k-m, n, k-m)"
      ]
    },
    {
      "cell_type": "code",
      "execution_count": null,
      "metadata": {
        "colab": {
          "base_uri": "https://localhost:8080/"
        },
        "id": "E6KfeI_-wHu8",
        "outputId": "ae029ac9-41f9-48d2-aca8-38d32d07a25a"
      },
      "outputs": [],
      "source": [
        "# 1.2.5. The expression to generate\n",
        "#>> [[  5.   2.]\n",
        "#    [-10.  -1.]\n",
        "#    [ -4.  -1.]]\n",
        "# is\n",
        "nd.array([[n, (n-m)], [((m-k)*nd.sum(x4).asscalar()), (m-k)], [((m-k)*k), (m-k)]])"
      ]
    }
  ],
  "metadata": {
    "colab": {
      "provenance": []
    },
    "kernelspec": {
      "display_name": "Python 3",
      "name": "python3"
    },
    "language_info": {
      "codemirror_mode": {
        "name": "ipython",
        "version": 3
      },
      "file_extension": ".py",
      "mimetype": "text/x-python",
      "name": "python",
      "nbconvert_exporter": "python",
      "pygments_lexer": "ipython3",
      "version": "3.10.8"
    }
  },
  "nbformat": 4,
  "nbformat_minor": 0
}
